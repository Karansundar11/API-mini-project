{
  "nbformat": 4,
  "nbformat_minor": 0,
  "metadata": {
    "colab": {
      "provenance": [],
      "toc_visible": true,
      "authorship_tag": "ABX9TyPg68iZZH9XZQPdCu04PzzO",
      "include_colab_link": true
    },
    "kernelspec": {
      "name": "python3",
      "display_name": "Python 3"
    },
    "language_info": {
      "name": "python"
    }
  },
  "cells": [
    {
      "cell_type": "markdown",
      "metadata": {
        "id": "view-in-github",
        "colab_type": "text"
      },
      "source": [
        "<a href=\"https://colab.research.google.com/github/Karansundar11/Core-python-/blob/main/Untitled25.ipynb\" target=\"_parent\"><img src=\"https://colab.research.google.com/assets/colab-badge.svg\" alt=\"Open In Colab\"/></a>"
      ]
    },
    {
      "cell_type": "markdown",
      "source": [
        "**API PROJECT**"
      ],
      "metadata": {
        "id": "d4HZb2pQEJ9Q"
      }
    },
    {
      "cell_type": "code",
      "source": [
        "import requests\n",
        "from bs4 import BeautifulSoup\n",
        "\n",
        "#1 usage\n",
        "def main():\n",
        "    # the base URL of the API\n",
        "    base_url = \"https://apps.google.com/meet/\"\n",
        "\n",
        "    # Make the API call\n",
        "    response = requests.get(base_url)\n",
        "    print(response)\n",
        "    # Check if the request was successful (satus code 200)\n",
        "    if response.status_code == 200:\n",
        "        # Print the HTML content\n",
        "        # parse the HTML content using Beautifulsoup\n",
        "        soup = BeautifulSoup(response.text, 'html.parser')\n",
        "\n",
        "        # Find and print the title of the web page\n",
        "        title = soup.title\n",
        "        if title:\n",
        "            print(\"Page Title:\", title.string)\n",
        "        else:\n",
        "            print(\"Title not found.\")\n",
        "        # Find and print all the links on the web page\n",
        "        links = soup.find_all('link')\n",
        "        print(\"Links on the page:\")\n",
        "        for link in links:\n",
        "            print(link.get('rel'))\n",
        "    else:\n",
        "        print(\"Request failed with satus code: {response.status_code}\")\n",
        "\n",
        "\n",
        "\n",
        "main()"
      ],
      "metadata": {
        "colab": {
          "base_uri": "https://localhost:8080/"
        },
        "id": "H3l7s2CMELck",
        "outputId": "8bd0cfde-397d-4392-9cb3-3b7d549978cd"
      },
      "execution_count": 2,
      "outputs": [
        {
          "output_type": "stream",
          "name": "stdout",
          "text": [
            "<Response [200]>\n",
            "Page Title: Google Meet: Online Video Meetings and Calls | Google Workspace\n",
            "Links on the page:\n",
            "['apple-touch-icon-precomposed']\n",
            "['shortcut', 'icon']\n",
            "['stylesheet']\n",
            "['stylesheet']\n",
            "['alternate']\n",
            "['alternate']\n",
            "['alternate']\n",
            "['alternate']\n",
            "['alternate']\n",
            "['alternate']\n",
            "['alternate']\n",
            "['alternate']\n",
            "['alternate']\n",
            "['alternate']\n",
            "['alternate']\n",
            "['alternate']\n",
            "['alternate']\n",
            "['alternate']\n",
            "['alternate']\n",
            "['alternate']\n",
            "['alternate']\n",
            "['alternate']\n",
            "['alternate']\n",
            "['alternate']\n",
            "['alternate']\n",
            "['alternate']\n",
            "['alternate']\n",
            "['alternate']\n",
            "['alternate']\n",
            "['alternate']\n",
            "['alternate']\n",
            "['alternate']\n",
            "['alternate']\n",
            "['alternate']\n",
            "['alternate']\n",
            "['alternate']\n",
            "['alternate']\n",
            "['alternate']\n",
            "['alternate']\n",
            "['alternate']\n",
            "['alternate']\n",
            "['alternate']\n",
            "['alternate']\n",
            "['alternate']\n",
            "['alternate']\n",
            "['alternate']\n",
            "['alternate']\n",
            "['alternate']\n",
            "['alternate']\n",
            "['alternate']\n",
            "['alternate']\n",
            "['alternate']\n",
            "['alternate']\n",
            "['alternate']\n",
            "['alternate']\n",
            "['alternate']\n",
            "['alternate']\n",
            "['alternate']\n",
            "['alternate']\n",
            "['alternate']\n",
            "['alternate']\n",
            "['alternate']\n",
            "['alternate']\n",
            "['alternate']\n",
            "['alternate']\n"
          ]
        }
      ]
    }
  ]
}